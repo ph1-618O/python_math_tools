{
 "cells": [
  {
   "cell_type": "markdown",
   "metadata": {},
   "source": [
    "# Compounding Interest"
   ]
  },
  {
   "cell_type": "markdown",
   "metadata": {},
   "source": [
    "# $$ A = P(1+ \\frac{r}{n})^{nt} $$\n",
    "\n",
    "- A =  Final Amount\n",
    "- P = Initial Priciple Balance\n",
    "- r =  interest rate\n",
    "- n =  number of times interest applied over time\n",
    "- t = number of time periods elapsed"
   ]
  },
  {
   "cell_type": "code",
   "execution_count": 12,
   "metadata": {},
   "outputs": [],
   "source": [
    "def interest(r, \n",
    "             P = 0, \n",
    "             n=12, # interest applied monthly\n",
    "             t=1 # time periods elapsed is 1 year\n",
    "            ):\n",
    "    \n",
    "    return P*(1 + r/n)**(n*t)\n"
   ]
  },
  {
   "cell_type": "code",
   "execution_count": 19,
   "metadata": {},
   "outputs": [
    {
     "name": "stdout",
     "output_type": "stream",
     "text": [
      "What is the interest rate\n",
      "45\n",
      "0.45\n",
      "What is the initial principle balance\n",
      "10000\n",
      "Number of times interest applied\n",
      "12\n",
      "What is the number of time periods elapsed\n",
      "1\n"
     ]
    }
   ],
   "source": [
    "r = input(\"What is the interest rate\\n\")\n",
    "r = int(r) * .01\n",
    "print(r)\n",
    "P = int(input(\"What is the initial principle balance\\n\"))\n",
    "n = int(input(\"Number of times interest applied\\n\"))\n",
    "t = int(input(\"What is the number of time periods elapsed\\n\"))"
   ]
  },
  {
   "cell_type": "code",
   "execution_count": 23,
   "metadata": {},
   "outputs": [
    {
     "data": {
      "text/plain": [
       "5555"
      ]
     },
     "execution_count": 23,
     "metadata": {},
     "output_type": "execute_result"
    }
   ],
   "source": [
    "i = interest(r, P, n, t)\n",
    "ROI = round(i - P)\n",
    "ROI"
   ]
  },
  {
   "cell_type": "code",
   "execution_count": null,
   "metadata": {},
   "outputs": [],
   "source": []
  },
  {
   "cell_type": "code",
   "execution_count": null,
   "metadata": {},
   "outputs": [],
   "source": []
  }
 ],
 "metadata": {
  "kernelspec": {
   "display_name": "Python 3",
   "language": "python",
   "name": "python3"
  },
  "language_info": {
   "codemirror_mode": {
    "name": "ipython",
    "version": 3
   },
   "file_extension": ".py",
   "mimetype": "text/x-python",
   "name": "python",
   "nbconvert_exporter": "python",
   "pygments_lexer": "ipython3",
   "version": "3.8.5"
  }
 },
 "nbformat": 4,
 "nbformat_minor": 4
}
